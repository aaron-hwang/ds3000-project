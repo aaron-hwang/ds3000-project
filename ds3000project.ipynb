{
 "cells": [
  {
   "cell_type": "code",
   "execution_count": 1,
   "id": "5537ea91-43ea-4f74-8197-287dce9d7a7e",
   "metadata": {},
   "outputs": [],
   "source": [
    "# DS3000 Project\n",
    "import seaborn as sns\n",
    "import matplotlib as plt\n",
    "import pandas as pd"
   ]
  },
  {
   "cell_type": "code",
   "execution_count": 2,
   "id": "5d5e092d-4dbc-4c78-82ed-ec34cd58a587",
   "metadata": {},
   "outputs": [],
   "source": [
    "def grab_html(url :str):\n",
    "    \"\"\"\n",
    "    Arguments:\n",
    "        url (str) : URL as a string that we will grab \n",
    "\n",
    "    Returns \n",
    "        html (str) : html from the url\n",
    "    \"\"\"\n",
    "    pass\n",
    "    "
   ]
  },
  {
   "cell_type": "code",
   "execution_count": null,
   "id": "d7378925-12af-41a1-b292-0a35bcc386a0",
   "metadata": {},
   "outputs": [],
   "source": [
    "def clean_html(html : str):\n",
    "    \"\"\"\n",
    "    Arguments:\n",
    "        html (str): html text to parse\n",
    "\n",
    "    Returns\n",
    "        df (pd.DataFrame): A dataframe \n",
    "    \"\"\"\n",
    "    pass"
   ]
  },
  {
   "cell_type": "code",
   "execution_count": null,
   "id": "9d3f2351-4d01-43ca-86fa-9398bcdeb3e5",
   "metadata": {},
   "outputs": [],
   "source": [
    "def plot_data(dataframe):\n",
    "    \"\"\"\n",
    "    Arguments:\n",
    "        dataframe (pd.DataFrame()): A pandas dataframe\n",
    "\n",
    "    Returns:\n",
    "        A plot\n",
    "    \"\"\"\n",
    "    pass"
   ]
  }
 ],
 "metadata": {
  "kernelspec": {
   "display_name": "Python 3 (ipykernel)",
   "language": "python",
   "name": "python3"
  },
  "language_info": {
   "codemirror_mode": {
    "name": "ipython",
    "version": 3
   },
   "file_extension": ".py",
   "mimetype": "text/x-python",
   "name": "python",
   "nbconvert_exporter": "python",
   "pygments_lexer": "ipython3",
   "version": "3.12.1"
  }
 },
 "nbformat": 4,
 "nbformat_minor": 5
}
